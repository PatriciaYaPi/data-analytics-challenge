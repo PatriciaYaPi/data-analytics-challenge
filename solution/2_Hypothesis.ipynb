{
 "cells": [
  {
   "cell_type": "code",
   "execution_count": 13,
   "metadata": {},
   "outputs": [],
   "source": [
    "import pandas as pd\n",
    "from scipy.stats import ttest_ind"
   ]
  },
  {
   "cell_type": "code",
   "execution_count": 14,
   "metadata": {
    "scrolled": true
   },
   "outputs": [
    {
     "data": {
      "text/html": [
       "<div>\n",
       "<style scoped>\n",
       "    .dataframe tbody tr th:only-of-type {\n",
       "        vertical-align: middle;\n",
       "    }\n",
       "\n",
       "    .dataframe tbody tr th {\n",
       "        vertical-align: top;\n",
       "    }\n",
       "\n",
       "    .dataframe thead th {\n",
       "        text-align: right;\n",
       "    }\n",
       "</style>\n",
       "<table border=\"1\" class=\"dataframe\">\n",
       "  <thead>\n",
       "    <tr style=\"text-align: right;\">\n",
       "      <th></th>\n",
       "      <th>distance</th>\n",
       "      <th>consume</th>\n",
       "      <th>temp_inside</th>\n",
       "      <th>temp_outside</th>\n",
       "      <th>gas_type</th>\n",
       "      <th>ac</th>\n",
       "      <th>rain</th>\n",
       "      <th>sun</th>\n",
       "      <th>temp_diff</th>\n",
       "      <th>fuel_used</th>\n",
       "      <th>cost_of_trip</th>\n",
       "      <th>speed_in_hours</th>\n",
       "      <th>avg_speed</th>\n",
       "    </tr>\n",
       "  </thead>\n",
       "  <tbody>\n",
       "    <tr>\n",
       "      <th>0</th>\n",
       "      <td>28.0</td>\n",
       "      <td>5.0</td>\n",
       "      <td>21.5</td>\n",
       "      <td>12</td>\n",
       "      <td>E10</td>\n",
       "      <td>0</td>\n",
       "      <td>0</td>\n",
       "      <td>0</td>\n",
       "      <td>9.5</td>\n",
       "      <td>1.4000</td>\n",
       "      <td>2.115</td>\n",
       "      <td>0.433333</td>\n",
       "      <td>64.615385</td>\n",
       "    </tr>\n",
       "    <tr>\n",
       "      <th>1</th>\n",
       "      <td>12.0</td>\n",
       "      <td>4.2</td>\n",
       "      <td>21.5</td>\n",
       "      <td>13</td>\n",
       "      <td>E10</td>\n",
       "      <td>0</td>\n",
       "      <td>0</td>\n",
       "      <td>0</td>\n",
       "      <td>8.5</td>\n",
       "      <td>0.5040</td>\n",
       "      <td>0.762</td>\n",
       "      <td>0.500000</td>\n",
       "      <td>24.000000</td>\n",
       "    </tr>\n",
       "    <tr>\n",
       "      <th>2</th>\n",
       "      <td>11.2</td>\n",
       "      <td>5.5</td>\n",
       "      <td>21.5</td>\n",
       "      <td>15</td>\n",
       "      <td>E10</td>\n",
       "      <td>0</td>\n",
       "      <td>0</td>\n",
       "      <td>0</td>\n",
       "      <td>6.5</td>\n",
       "      <td>0.6160</td>\n",
       "      <td>0.931</td>\n",
       "      <td>0.633333</td>\n",
       "      <td>17.684211</td>\n",
       "    </tr>\n",
       "    <tr>\n",
       "      <th>3</th>\n",
       "      <td>12.9</td>\n",
       "      <td>3.9</td>\n",
       "      <td>21.5</td>\n",
       "      <td>14</td>\n",
       "      <td>E10</td>\n",
       "      <td>0</td>\n",
       "      <td>0</td>\n",
       "      <td>0</td>\n",
       "      <td>7.5</td>\n",
       "      <td>0.5031</td>\n",
       "      <td>0.760</td>\n",
       "      <td>0.600000</td>\n",
       "      <td>21.500000</td>\n",
       "    </tr>\n",
       "    <tr>\n",
       "      <th>4</th>\n",
       "      <td>18.5</td>\n",
       "      <td>4.5</td>\n",
       "      <td>21.5</td>\n",
       "      <td>15</td>\n",
       "      <td>E10</td>\n",
       "      <td>0</td>\n",
       "      <td>0</td>\n",
       "      <td>0</td>\n",
       "      <td>6.5</td>\n",
       "      <td>0.8325</td>\n",
       "      <td>1.258</td>\n",
       "      <td>0.766667</td>\n",
       "      <td>24.130435</td>\n",
       "    </tr>\n",
       "  </tbody>\n",
       "</table>\n",
       "</div>"
      ],
      "text/plain": [
       "   distance  consume  temp_inside  temp_outside gas_type  ac  rain  sun  \\\n",
       "0      28.0      5.0         21.5            12      E10   0     0    0   \n",
       "1      12.0      4.2         21.5            13      E10   0     0    0   \n",
       "2      11.2      5.5         21.5            15      E10   0     0    0   \n",
       "3      12.9      3.9         21.5            14      E10   0     0    0   \n",
       "4      18.5      4.5         21.5            15      E10   0     0    0   \n",
       "\n",
       "   temp_diff  fuel_used  cost_of_trip  speed_in_hours  avg_speed  \n",
       "0        9.5     1.4000         2.115        0.433333  64.615385  \n",
       "1        8.5     0.5040         0.762        0.500000  24.000000  \n",
       "2        6.5     0.6160         0.931        0.633333  17.684211  \n",
       "3        7.5     0.5031         0.760        0.600000  21.500000  \n",
       "4        6.5     0.8325         1.258        0.766667  24.130435  "
      ]
     },
     "execution_count": 14,
     "metadata": {},
     "output_type": "execute_result"
    }
   ],
   "source": [
    "data = pd.read_csv('Cobify_data_cleaned.csv') #load the data we produced\n",
    "data.head()"
   ]
  },
  {
   "cell_type": "markdown",
   "metadata": {},
   "source": [
    "### First hypothesis testing, fuel_used"
   ]
  },
  {
   "cell_type": "code",
   "execution_count": 15,
   "metadata": {},
   "outputs": [
    {
     "data": {
      "text/plain": [
       "'\\nOur null hypothesis is that: consumtion of sp98 and e10 is the same\\nIMPORTANT STEPS\\n----------------\\n1. H0: consumtion of sp98 and e10 is the same, H1 is not the same\\n2. significance= 0.05\\n3. sample\\n4/5. compute statistic, comptue p-value (python does both)\\n6.decide\\n'"
      ]
     },
     "execution_count": 15,
     "metadata": {},
     "output_type": "execute_result"
    }
   ],
   "source": [
    "\"\"\"\n",
    "Our null hypothesis is that: consumtion of sp98 and e10 is the same\n",
    "IMPORTANT STEPS\n",
    "----------------\n",
    "1. H0: consumtion of sp98 and e10 is the same, H1 is not the same\n",
    "2. significance= 0.05\n",
    "3. sample\n",
    "4/5. compute statistic, comptue p-value (python does both)\n",
    "6.decide\n",
    "\"\"\"\n"
   ]
  },
  {
   "cell_type": "code",
   "execution_count": 16,
   "metadata": {
    "scrolled": true
   },
   "outputs": [
    {
     "data": {
      "text/plain": [
       "\"\\nIn statistics, t-test is used to test if two data samples have a significant difference between their means. There are two types of t-test:\\n\\nStudent's t-test (a.k.a. independent or uncorrelated t-test). This type of t-test is to compare the samples of two independent populations \\n(e.g. test scores of students in two different classes). scipy provides the ttest_ind method to conduct student's t-test.\\n\\nPaired t-test (a.k.a. dependent or correlated t-test). This type of t-test is to compare the samples of the same population (e.g. scores of \\ndifferent tests of students in the same class). scipy provides the ttest_re method to conduct paired t-test.\\n\\nBoth types of t-tests return a number which is called the p-value. If p-value is below 0.05, we can confidently declare the null-hypothesis is rejected and the difference is significant. If p-value is between 0.05 and 0.1, we may also declare the null-hypothesis is rejected but we are not highly confident. If p-value is above 0.1 we do not reject the null-hypothesis.\\n\""
      ]
     },
     "execution_count": 16,
     "metadata": {},
     "output_type": "execute_result"
    }
   ],
   "source": [
    "\"\"\"\n",
    "In statistics, t-test is used to test if two data samples have a significant difference between their means. There are two types of t-test:\n",
    "\n",
    "Student's t-test (a.k.a. independent or uncorrelated t-test). This type of t-test is to compare the samples of two independent populations \n",
    "(e.g. test scores of students in two different classes). scipy provides the ttest_ind method to conduct student's t-test.\n",
    "\n",
    "Paired t-test (a.k.a. dependent or correlated t-test). This type of t-test is to compare the samples of the same population (e.g. scores of \n",
    "different tests of students in the same class). scipy provides the ttest_re method to conduct paired t-test.\n",
    "\n",
    "Both types of t-tests return a number which is called the p-value. If p-value is below 0.05, we can confidently declare the null-hypothesis is rejected and the difference is significant. If p-value is between 0.05 and 0.1, we may also declare the null-hypothesis is rejected but we are not highly confident. If p-value is above 0.1 we do not reject the null-hypothesis.\n",
    "\"\"\""
   ]
  },
  {
   "cell_type": "code",
   "execution_count": 17,
   "metadata": {},
   "outputs": [
    {
     "data": {
      "text/plain": [
       "Ttest_indResult(statistic=1.089091767035112, pvalue=0.27679289437741406)"
      ]
     },
     "execution_count": 17,
     "metadata": {},
     "output_type": "execute_result"
    }
   ],
   "source": [
    "ttest_ind(data[data.gas_type == 'E10'].fuel_used,data[data.gas_type == 'SP98'].fuel_used)\n",
    "##############################\n",
    "#IF P IS LOW, THE NULL MUST GO\n",
    "##############################\n",
    "#if p-value is < our significant value (0.05 or the one choose) then we reject H0\n",
    "#otherwise we accept the H0 the null hyphotesis"
   ]
  },
  {
   "cell_type": "code",
   "execution_count": 18,
   "metadata": {},
   "outputs": [],
   "source": [
    "# The p-value of the test is: 0.2767 so p-value is greater than our significant value 0.05 then we don't reject H0 the null hypothesis\n",
    "# Consumption of both fuels are similar"
   ]
  },
  {
   "cell_type": "markdown",
   "metadata": {},
   "source": [
    "### Second hypothesis testing, cost_of_trip"
   ]
  },
  {
   "cell_type": "code",
   "execution_count": 19,
   "metadata": {
    "scrolled": false
   },
   "outputs": [
    {
     "data": {
      "text/plain": [
       "Ttest_indResult(statistic=0.5245352608018607, pvalue=0.6002073944630295)"
      ]
     },
     "execution_count": 19,
     "metadata": {},
     "output_type": "execute_result"
    }
   ],
   "source": [
    "#Our null hypothesis is that: cost per trip of sp98 and e10 is the same\n",
    "\n",
    "ttest_ind(data[data.gas_type == 'E10'].cost_of_trip,data[data.gas_type == 'SP98'].cost_of_trip)\n",
    "##############################\n",
    "#IF P IS LOW, THE NULL MUST GO\n",
    "##############################\n",
    "#if p-value is < our significant value (0.05 or the one choose) then we reject H0\n",
    "#otherwise we accept the H0 the null hyphotesis"
   ]
  },
  {
   "cell_type": "code",
   "execution_count": 20,
   "metadata": {},
   "outputs": [],
   "source": [
    "# The p-value of the test is: 0.60 so p-value is greater than our significant value 0.05 then we don't reject H0 the null hypothesis\n",
    "# Cost pre trip is similar for both fuels"
   ]
  },
  {
   "cell_type": "code",
   "execution_count": null,
   "metadata": {},
   "outputs": [],
   "source": []
  }
 ],
 "metadata": {
  "kernelspec": {
   "display_name": "Python 3 (ipykernel)",
   "language": "python",
   "name": "python3"
  },
  "language_info": {
   "codemirror_mode": {
    "name": "ipython",
    "version": 3
   },
   "file_extension": ".py",
   "mimetype": "text/x-python",
   "name": "python",
   "nbconvert_exporter": "python",
   "pygments_lexer": "ipython3",
   "version": "3.9.7"
  }
 },
 "nbformat": 4,
 "nbformat_minor": 4
}
